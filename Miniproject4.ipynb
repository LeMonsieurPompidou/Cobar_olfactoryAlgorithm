{
 "cells": [
  {
   "cell_type": "code",
   "execution_count": 1,
   "metadata": {},
   "outputs": [
    {
     "name": "stderr",
     "output_type": "stream",
     "text": [
      "100%|██████████| 5000/5000 [00:33<00:00, 148.47it/s]\n"
     ]
    },
    {
     "data": {
      "text/html": [
       "<video src=\"outputs/top_view_fly.mp4\" controls  >\n",
       "      Your browser does not support the <code>video</code> element.\n",
       "    </video>"
      ],
      "text/plain": [
       "<IPython.core.display.Video object>"
      ]
     },
     "execution_count": 1,
     "metadata": {},
     "output_type": "execute_result"
    }
   ],
   "source": [
    "from pathlib import Path\n",
    "import pickle\n",
    "import numpy as np\n",
    "from tqdm import trange\n",
    "\n",
    "# Directory creation for output\n",
    "save_dir = Path(\"outputs\")\n",
    "save_dir.mkdir(exist_ok=True)\n",
    "\n",
    "# Loading preprogrammed joint data\n",
    "from flygym.preprogrammed import all_leg_dofs\n",
    "from flygym.util import get_data_path\n",
    "data_path = get_data_path(\"flygym\", \"data\")\n",
    "with open(data_path / \"behavior\" / \"210902_pr_fly1.pkl\", \"rb\") as f:\n",
    "    data = pickle.load(f)\n",
    "\n",
    "# Simulation setup\n",
    "run_time = 0.5\n",
    "timestep = 1e-4\n",
    "actuated_joints = all_leg_dofs\n",
    "target_num_steps = int(run_time / timestep)\n",
    "data_block = np.zeros((len(actuated_joints), target_num_steps))\n",
    "input_t = np.arange(len(data[\"joint_LFCoxa\"])) * data[\"meta\"][\"timestep\"]\n",
    "output_t = np.arange(target_num_steps) * timestep\n",
    "\n",
    "for i, joint in enumerate(actuated_joints):\n",
    "    data_block[i, :] = np.interp(output_t, input_t, data[joint])\n",
    "\n",
    "# Setting up the fly and camera for top view\n",
    "from flygym import Fly, Camera, SingleFlySimulation\n",
    "fly = Fly(spawn_pos=(0, 0, 0.5), actuated_joints=actuated_joints)\n",
    "cam = Camera(fly=fly, camera_id=\"Animat/camera_top\")\n",
    "\n",
    "# Initializing simulation\n",
    "sim = SingleFlySimulation(fly=fly, cameras=[cam])\n",
    "obs, info = sim.reset()\n",
    "\n",
    "# Running the simulation\n",
    "for i in trange(target_num_steps):\n",
    "    joint_pos = data_block[:, i]\n",
    "    action = {\"joints\": joint_pos}\n",
    "    obs, reward, terminated, truncated, info = sim.step(action)\n",
    "    sim.render()\n",
    "\n",
    "# Save the video from the top camera\n",
    "cam.save_video(save_dir / \"top_view_fly.mp4\")\n",
    "\n",
    "# Display the video\n",
    "from IPython.display import Video\n",
    "Video(str(save_dir / \"top_view_fly.mp4\"))\n"
   ]
  },
  {
   "cell_type": "code",
   "execution_count": 1,
   "metadata": {},
   "outputs": [
    {
     "name": "stderr",
     "output_type": "stream",
     "text": [
      "100%|██████████| 100000/100000 [11:50<00:00, 140.77it/s]\n"
     ]
    },
    {
     "data": {
      "text/html": [
       "<video src=\"outputs/top_view_fly.mp4\" controls  >\n",
       "      Your browser does not support the <code>video</code> element.\n",
       "    </video>"
      ],
      "text/plain": [
       "<IPython.core.display.Video object>"
      ]
     },
     "execution_count": 1,
     "metadata": {},
     "output_type": "execute_result"
    }
   ],
   "source": [
    "from pathlib import Path\n",
    "import pickle\n",
    "import numpy as np\n",
    "from tqdm import trange\n",
    "\n",
    "# Directory creation for output\n",
    "save_dir = Path(\"outputs\")\n",
    "save_dir.mkdir(exist_ok=True)\n",
    "\n",
    "# Loading preprogrammed joint data\n",
    "from flygym.preprogrammed import all_leg_dofs\n",
    "from flygym.util import get_data_path\n",
    "data_path = get_data_path(\"flygym\", \"data\")\n",
    "with open(data_path / \"behavior\" / \"210902_pr_fly1.pkl\", \"rb\") as f:\n",
    "    data = pickle.load(f)\n",
    "\n",
    "# Extend simulation setup to 10 seconds\n",
    "run_time = 10.0  # Run for 10 seconds\n",
    "timestep = 1e-4\n",
    "actuated_joints = all_leg_dofs\n",
    "target_num_steps = int(run_time / timestep)\n",
    "data_block = np.zeros((len(actuated_joints), target_num_steps))\n",
    "\n",
    "# Here, you might need to adjust how data is processed to ensure the fly moves straight.\n",
    "# For simplicity, this example will use a constant set of joint positions.\n",
    "# Assuming `data[joint]` provides a suitable posture for straight walking at some index `k`.\n",
    "k = 0  # Index at which the fly is in a suitable straight-walking posture\n",
    "for i, joint in enumerate(actuated_joints):\n",
    "    data_block[i, :] = data[joint][k]  # Constant position for straight walking\n",
    "\n",
    "# Setting up the fly and camera for top view\n",
    "from flygym import Fly, Camera, SingleFlySimulation\n",
    "fly = Fly(spawn_pos=(0, 0, 0.5), actuated_joints=actuated_joints)\n",
    "cam = Camera(fly=fly, camera_id=\"Animat/camera_top\")\n",
    "\n",
    "# Initializing simulation\n",
    "sim = SingleFlySimulation(fly=fly, cameras=[cam])\n",
    "obs, info = sim.reset()\n",
    "\n",
    "# Running the simulation\n",
    "for i in trange(target_num_steps):\n",
    "    joint_pos = data_block[:, i]\n",
    "    action = {\"joints\": joint_pos}\n",
    "    obs, reward, terminated, truncated, info = sim.step(action)\n",
    "    sim.render()\n",
    "\n",
    "# Save the video from the top camera\n",
    "cam.save_video(save_dir / \"top_view_fly.mp4\")\n",
    "\n",
    "# Display the video\n",
    "from IPython.display import Video\n",
    "Video(str(save_dir / \"top_view_fly.mp4\"))\n"
   ]
  },
  {
   "cell_type": "code",
   "execution_count": null,
   "metadata": {},
   "outputs": [],
   "source": []
  }
 ],
 "metadata": {
  "kernelspec": {
   "display_name": "flygym-v1",
   "language": "python",
   "name": "python3"
  },
  "language_info": {
   "codemirror_mode": {
    "name": "ipython",
    "version": 3
   },
   "file_extension": ".py",
   "mimetype": "text/x-python",
   "name": "python",
   "nbconvert_exporter": "python",
   "pygments_lexer": "ipython3",
   "version": "3.11.9"
  },
  "orig_nbformat": 4
 },
 "nbformat": 4,
 "nbformat_minor": 2
}
