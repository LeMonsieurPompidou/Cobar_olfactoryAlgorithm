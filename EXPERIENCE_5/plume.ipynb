{
 "cells": [
  {
   "cell_type": "markdown",
   "metadata": {},
   "source": [
    "# Project"
   ]
  },
  {
   "cell_type": "code",
   "execution_count": 1,
   "metadata": {},
   "outputs": [],
   "source": [
    "import matplotlib.pyplot as plt\n",
    "import numpy as np\n",
    "import h5py\n",
    "import os\n",
    "\n",
    "from tqdm import trange\n",
    "from pathlib import Path\n",
    "from flygym import Fly, Camera\n",
    "from flygym.examples.plume_tracking.arena import OdorPlumeArena\n",
    "from controller import PlumeNavigationTask"
   ]
  },
  {
   "cell_type": "code",
   "execution_count": 2,
   "metadata": {},
   "outputs": [
    {
     "name": "stdout",
     "output_type": "stream",
     "text": [
      "Structure of the HDF5 file:\n",
      "Dataset: inflow_pos, shape: (2,), dtype: int64\n",
      "Dataset: inflow_radius, shape: (), dtype: int64\n",
      "Dataset: inflow_scaler, shape: (), dtype: float64\n",
      "Dataset: plume, shape: (18571, 320, 480), dtype: float16\n"
     ]
    }
   ],
   "source": [
    "# Function to explore the structure of an HDF5 file\n",
    "def explore_hdf5(file):\n",
    "    def print_structure(name, obj):\n",
    "        indent = '  ' * name.count('/')\n",
    "        if isinstance(obj, h5py.Group):\n",
    "            print(f\"{indent}Group: {name}\")\n",
    "        elif isinstance(obj, h5py.Dataset):\n",
    "            print(f\"{indent}Dataset: {name}, shape: {obj.shape}, dtype: {obj.dtype}\")\n",
    "    \n",
    "    # Visit all items in the file and apply the print_structure function\n",
    "    file.visititems(print_structure)\n",
    "\n",
    "# Open the HDF5 file in read mode and explore its structure\n",
    "with h5py.File('plume.hdf5', 'r') as f:\n",
    "    print(\"Structure of the HDF5 file:\")\n",
    "    explore_hdf5(f)"
   ]
  },
  {
   "cell_type": "code",
   "execution_count": 3,
   "metadata": {},
   "outputs": [],
   "source": [
    "\n",
    "plume_data_path = Path(\"./plume.hdf5\")\n",
    "\n",
    "# Initialize the OdorPlumeArena\n",
    "arena = OdorPlumeArena(\n",
    "    plume_data_path=plume_data_path,\n",
    ")"
   ]
  },
  {
   "cell_type": "code",
   "execution_count": 4,
   "metadata": {},
   "outputs": [],
   "source": [
    "# Creating a list of contact sensor placements for each leg and segment using list comprehension.\n",
    "contact_sensor_placements = [\n",
    "    f\"{leg}{segment}\"\n",
    "    for leg in [\"LF\", \"LM\", \"LH\", \"RF\", \"RM\", \"RH\"]\n",
    "    for segment in [\"Tibia\", \"Tarsus1\", \"Tarsus2\", \"Tarsus3\", \"Tarsus4\", \"Tarsus5\"]\n",
    "]\n",
    "\n",
    "# Creating a Fly object with specific spawn position, orientation, sensor placements, and other features.\n",
    "fly = Fly(\n",
    "    enable_adhesion=True,\n",
    "    draw_adhesion=True,\n",
    "    enable_olfaction=True,\n",
    "    enable_vision=False,\n",
    "    contact_sensor_placements=contact_sensor_placements,\n",
    "    spawn_pos=(200, 80, 0.25),\n",
    "    spawn_orientation=(0, 0, np.pi),\n",
    ")\n",
    "\n",
    "# Creating a Camera object associated with the Fly object, setting its ID, playback speed, and window size.\n",
    "cam = Camera(\n",
    "    fly=fly,\n",
    "    camera_id=\"birdeye_cam\",\n",
    "    play_speed=0.2,\n",
    "    window_size=(1000, 608),\n",
    ")\n",
    "\n",
    "# Creating a PlumeNavigationTask to simulate the fly's navigation within a defined arena, observed by the camera.\n",
    "sim = PlumeNavigationTask(\n",
    "    fly=fly,\n",
    "    cameras=[cam],\n",
    "    arena=arena,\n",
    ")"
   ]
  },
  {
   "cell_type": "code",
   "execution_count": 5,
   "metadata": {},
   "outputs": [
    {
     "name": "stderr",
     "output_type": "stream",
     "text": [
      "  0%|          | 0/18571 [00:00<?, ?it/s]"
     ]
    },
    {
     "name": "stderr",
     "output_type": "stream",
     "text": [
      "100%|██████████| 18571/18571 [02:22<00:00, 130.66it/s]\n",
      "WARNING:imageio_ffmpeg:IMAGEIO FFMPEG_WRITER WARNING: input image is not divisible by macro_block_size=16, resizing from (1000, 608) to (1008, 608) to ensure video compatibility with most codecs and players. To prevent resizing, make your input image divisible by the macro_block_size or set the macro_block_size to 1 (risking incompatibility).\n"
     ]
    }
   ],
   "source": [
    "# Reset the simulation and get the initial observation\n",
    "obs, _ = sim.reset()\n",
    "HRC_model = []\n",
    "\n",
    "# Iterate over each step in the plume grid\n",
    "for i in trange(len(arena.plume_grid)):\n",
    "    \n",
    "    # The controller doesn't work, so we decide to not move the fly\n",
    "    obs = sim.step(np.array([0, 0]))\n",
    "    \n",
    "    # Render the simulation and get the rendered image\n",
    "    sim.render()\n",
    "    rendered_img = sim.render()[0]\n",
    "    \n",
    "    if rendered_img is not None:\n",
    "        # Calculate the HRC value for the current frame\n",
    "        hrc_value = HRC_model[-1] if HRC_model else 0\n",
    "\n",
    "# Create the output directory if it doesn't exist\n",
    "if not os.path.exists('outputs'):\n",
    "    os.makedirs('outputs')\n",
    "\n",
    "# Save the simulation video to the output directory\n",
    "cam.save_video(\"outputs/plume.mp4\", stabilization_time=0)"
   ]
  },
  {
   "cell_type": "markdown",
   "metadata": {},
   "source": []
  }
 ],
 "metadata": {
  "kernelspec": {
   "display_name": "flygym0.2",
   "language": "python",
   "name": "python3"
  },
  "language_info": {
   "codemirror_mode": {
    "name": "ipython",
    "version": 3
   },
   "file_extension": ".py",
   "mimetype": "text/x-python",
   "name": "python",
   "nbconvert_exporter": "python",
   "pygments_lexer": "ipython3",
   "version": "3.11.9"
  }
 },
 "nbformat": 4,
 "nbformat_minor": 2
}
