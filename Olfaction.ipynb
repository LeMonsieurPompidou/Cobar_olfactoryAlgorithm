{
 "cells": [
  {
   "cell_type": "markdown",
   "metadata": {},
   "source": [
    "# Project"
   ]
  },
  {
   "cell_type": "markdown",
   "metadata": {},
   "source": [
    "# Useful things"
   ]
  },
  {
   "cell_type": "markdown",
   "metadata": {},
   "source": [
    "# Olfaction\n",
    "\n",
    "**Summary:** In this tutorial, we will implement a something that can change the world.\n",
    "\n",
    "The detailed documentation of the `OdorArena` class can be found in the [API reference](https://neuromechfly.org/api_ref/arena.html#flygym.mujoco.arena.OdorArena). Its implementation is beyond the scope of this tutorial but can be found [here](https://github.com/NeLy-EPFL/flygym/blob/main/flygym/mujoco/arena/sensory_environment.py)."
   ]
  },
  {
   "cell_type": "code",
   "execution_count": 21,
   "metadata": {},
   "outputs": [],
   "source": [
    "from flygym.arena import BaseArena\n",
    "from flygym.examples.obstacle_arena import ObstacleOdorArena\n",
    "import numpy as np\n",
    "from typing import Union, Tuple, List, Optional, Callable\n",
    "\n",
    "class SquareOdorArena(ObstacleOdorArena):\n",
    "    def __init__(\n",
    "        self,   \n",
    "        terrain: BaseArena,\n",
    "        odor_zone_center: Tuple[float, float] = (12.5, 12.5),\n",
    "        odor_zone_size: float = 10.0,  # Taille du carré d'odeur\n",
    "        odor_zone_intensity: float = 1.0,  # Intensité maximale au centre\n",
    "        **kwargs\n",
    "    ):\n",
    "        super().__init__(terrain=terrain, **kwargs)\n",
    "        self.odor_zone_center = np.array(odor_zone_center)\n",
    "        self.odor_zone_size = odor_zone_size\n",
    "        self.odor_zone_intensity = odor_zone_intensity\n",
    "\n",
    "    def get_olfaction(self, antennae_pos: np.ndarray) -> np.ndarray:\n",
    "        \"\"\"Calcule l'intensité de l'odeur pour chaque antenne dans la zone carrée.\"\"\"\n",
    "        intensity = np.zeros((len(antennae_pos),))\n",
    "        for i, pos in enumerate(antennae_pos):\n",
    "            if (abs(pos[0] - self.odor_zone_center[0]) <= self.odor_zone_size / 2 and\n",
    "                abs(pos[1] - self.odor_zone_center[1]) <= self.odor_zone_size / 2):\n",
    "                # L'intensité diminue linéairement depuis le centre\n",
    "                distance = np.linalg.norm(pos - self.odor_zone_center)\n",
    "                intensity[i] = self.odor_zone_intensity * (1 - distance / (self.odor_zone_size / 2))\n",
    "        return intensity\n",
    "    \n",
    "    def get_spawn_position(self, rel_pos: np.ndarray, rel_angle: np.ndarray) -> Tuple[np.ndarray, np.ndarray]:\n",
    "        \"\"\"Return a fixed spawn position and angle.\"\"\"\n",
    "        spawn_pos = np.array([0.0, 0.0, 0.0])  # Replace with your actual values\n",
    "        spawn_angle = np.array([0.0, 0.0, 0.0])  # Replace with your actual values\n",
    "        return spawn_pos, spawn_angle"
   ]
  },
  {
   "cell_type": "code",
   "execution_count": 22,
   "metadata": {},
   "outputs": [
    {
     "name": "stdout",
     "output_type": "stream",
     "text": [
      "Ajout d'un objet de type body avec les arguments {'name': 'odor_source_marker_0', 'pos': [25, 0, 2.0], 'mocap': True}\n",
      "Ajout d'un objet de type geom avec les arguments {'type': 'capsule', 'size': (0.1, 0.1), 'rgba': (1.0, 0.4980392156862745, 0.054901960784313725, 1)}\n"
     ]
    },
    {
     "ename": "AttributeError",
     "evalue": "'RootElement' object has no attribute 'asset'",
     "output_type": "error",
     "traceback": [
      "\u001b[1;31m---------------------------------------------------------------------------\u001b[0m",
      "\u001b[1;31mAttributeError\u001b[0m                            Traceback (most recent call last)",
      "Cell \u001b[1;32mIn[22], line 35\u001b[0m\n\u001b[0;32m     32\u001b[0m base_terrain \u001b[38;5;241m=\u001b[39m SimpleTerrain()\n\u001b[0;32m     34\u001b[0m \u001b[38;5;66;03m# Initialize the SquareOdorArena avec le terrain créé\u001b[39;00m\n\u001b[1;32m---> 35\u001b[0m arena \u001b[38;5;241m=\u001b[39m \u001b[43mSquareOdorArena\u001b[49m\u001b[43m(\u001b[49m\u001b[43mterrain\u001b[49m\u001b[38;5;241;43m=\u001b[39;49m\u001b[43mbase_terrain\u001b[49m\u001b[43m,\u001b[49m\u001b[43m \u001b[49m\u001b[43modor_zone_center\u001b[49m\u001b[38;5;241;43m=\u001b[39;49m\u001b[43m(\u001b[49m\u001b[38;5;241;43m12.5\u001b[39;49m\u001b[43m,\u001b[49m\u001b[43m \u001b[49m\u001b[38;5;241;43m12.5\u001b[39;49m\u001b[43m)\u001b[49m\u001b[43m,\u001b[49m\u001b[43m \u001b[49m\u001b[43modor_zone_size\u001b[49m\u001b[38;5;241;43m=\u001b[39;49m\u001b[38;5;241;43m10.0\u001b[39;49m\u001b[43m,\u001b[49m\u001b[43m \u001b[49m\u001b[43modor_zone_intensity\u001b[49m\u001b[38;5;241;43m=\u001b[39;49m\u001b[38;5;241;43m1.0\u001b[39;49m\u001b[43m)\u001b[49m\n\u001b[0;32m     37\u001b[0m \u001b[38;5;66;03m# Create a grid of points\u001b[39;00m\n\u001b[0;32m     38\u001b[0m x \u001b[38;5;241m=\u001b[39m np\u001b[38;5;241m.\u001b[39mlinspace(\u001b[38;5;241m0\u001b[39m, \u001b[38;5;241m25\u001b[39m, \u001b[38;5;241m100\u001b[39m)\n",
      "Cell \u001b[1;32mIn[21], line 15\u001b[0m, in \u001b[0;36mSquareOdorArena.__init__\u001b[1;34m(self, terrain, odor_zone_center, odor_zone_size, odor_zone_intensity, **kwargs)\u001b[0m\n\u001b[0;32m      7\u001b[0m \u001b[38;5;28;01mdef\u001b[39;00m \u001b[38;5;21m__init__\u001b[39m(\n\u001b[0;32m      8\u001b[0m     \u001b[38;5;28mself\u001b[39m,   \n\u001b[0;32m      9\u001b[0m     terrain: BaseArena,\n\u001b[1;32m   (...)\u001b[0m\n\u001b[0;32m     13\u001b[0m     \u001b[38;5;241m*\u001b[39m\u001b[38;5;241m*\u001b[39mkwargs\n\u001b[0;32m     14\u001b[0m ):\n\u001b[1;32m---> 15\u001b[0m     \u001b[38;5;28;43msuper\u001b[39;49m\u001b[43m(\u001b[49m\u001b[43m)\u001b[49m\u001b[38;5;241;43m.\u001b[39;49m\u001b[38;5;21;43m__init__\u001b[39;49m\u001b[43m(\u001b[49m\u001b[43mterrain\u001b[49m\u001b[38;5;241;43m=\u001b[39;49m\u001b[43mterrain\u001b[49m\u001b[43m,\u001b[49m\u001b[43m \u001b[49m\u001b[38;5;241;43m*\u001b[39;49m\u001b[38;5;241;43m*\u001b[39;49m\u001b[43mkwargs\u001b[49m\u001b[43m)\u001b[49m\n\u001b[0;32m     16\u001b[0m     \u001b[38;5;28mself\u001b[39m\u001b[38;5;241m.\u001b[39modor_zone_center \u001b[38;5;241m=\u001b[39m np\u001b[38;5;241m.\u001b[39marray(odor_zone_center)\n\u001b[0;32m     17\u001b[0m     \u001b[38;5;28mself\u001b[39m\u001b[38;5;241m.\u001b[39modor_zone_size \u001b[38;5;241m=\u001b[39m odor_zone_size\n",
      "File \u001b[1;32mc:\\users\\samrh\\flygym-v1\\flygym\\examples\\obstacle_arena.py:83\u001b[0m, in \u001b[0;36mObstacleOdorArena.__init__\u001b[1;34m(self, terrain, obstacle_positions, obstacle_colors, obstacle_radius, obstacle_height, odor_source, peak_odor_intensity, diffuse_func, marker_colors, marker_size, user_camera_settings)\u001b[0m\n\u001b[0;32m     81\u001b[0m \u001b[38;5;66;03m# Add obstacles\u001b[39;00m\n\u001b[0;32m     82\u001b[0m \u001b[38;5;28mself\u001b[39m\u001b[38;5;241m.\u001b[39mobstacle_bodies \u001b[38;5;241m=\u001b[39m []\n\u001b[1;32m---> 83\u001b[0m obstacle_material \u001b[38;5;241m=\u001b[39m \u001b[38;5;28;43mself\u001b[39;49m\u001b[38;5;241;43m.\u001b[39;49m\u001b[43mroot_element\u001b[49m\u001b[38;5;241;43m.\u001b[39;49m\u001b[43masset\u001b[49m\u001b[38;5;241m.\u001b[39madd(\n\u001b[0;32m     84\u001b[0m     \u001b[38;5;124m\"\u001b[39m\u001b[38;5;124mmaterial\u001b[39m\u001b[38;5;124m\"\u001b[39m, name\u001b[38;5;241m=\u001b[39m\u001b[38;5;124m\"\u001b[39m\u001b[38;5;124mobstacle\u001b[39m\u001b[38;5;124m\"\u001b[39m, reflectance\u001b[38;5;241m=\u001b[39m\u001b[38;5;241m0.1\u001b[39m\n\u001b[0;32m     85\u001b[0m )\n\u001b[0;32m     86\u001b[0m \u001b[38;5;28mself\u001b[39m\u001b[38;5;241m.\u001b[39mobstacle_z_pos \u001b[38;5;241m=\u001b[39m z_offset \u001b[38;5;241m+\u001b[39m obstacle_height \u001b[38;5;241m/\u001b[39m \u001b[38;5;241m2\u001b[39m\n\u001b[0;32m     87\u001b[0m \u001b[38;5;28;01mfor\u001b[39;00m i \u001b[38;5;129;01min\u001b[39;00m \u001b[38;5;28mrange\u001b[39m(obstacle_positions\u001b[38;5;241m.\u001b[39mshape[\u001b[38;5;241m0\u001b[39m]):\n",
      "\u001b[1;31mAttributeError\u001b[0m: 'RootElement' object has no attribute 'asset'"
     ]
    }
   ],
   "source": [
    "import matplotlib.pyplot as plt\n",
    "import numpy as np\n",
    "from flygym.examples.obstacle_arena import ObstacleOdorArena\n",
    "\n",
    "# Définition d'un terrain simple comme base pour l'arène\n",
    "class SimpleTerrain(BaseArena):\n",
    "    def __init__(self):\n",
    "        self.root_element = self.create_default_root()\n",
    "\n",
    "    def get_spawn_position(self, rel_pos, rel_angle):\n",
    "        return rel_pos, rel_angle  # Retour simple des paramètres d'entrée\n",
    "\n",
    "    def create_default_root(self):\n",
    "        class RootElement:\n",
    "            def __init__(self):\n",
    "                self.worldbody = self.WorldBody()\n",
    "                self.assets = self.AssetManager()  # Assurez-vous que le nom est correct\n",
    "\n",
    "            class WorldBody:\n",
    "                def add(self, obj_type, **kwargs):\n",
    "                    print(f\"Ajout d'un objet de type {obj_type} avec les arguments {kwargs}\")\n",
    "                    return self  # Simuler l'ajout d'un objet\n",
    "\n",
    "            class AssetManager:\n",
    "                def add(self, asset_type, **kwargs):\n",
    "                    print(f\"Ajout d'un asset de type {asset_type} avec les arguments {kwargs}\")\n",
    "                    return self  # Simuler l'ajout d'un asset\n",
    "\n",
    "        return RootElement()\n",
    "\n",
    "# Création de l'instance de terrain\n",
    "base_terrain = SimpleTerrain()\n",
    "\n",
    "# Initialize the SquareOdorArena avec le terrain créé\n",
    "arena = SquareOdorArena(terrain=base_terrain, odor_zone_center=(12.5, 12.5), odor_zone_size=10.0, odor_zone_intensity=1.0)\n",
    "\n",
    "# Create a grid of points\n",
    "x = np.linspace(0, 25, 100)\n",
    "y = np.linspace(0, 25, 100)\n",
    "X, Y = np.meshgrid(x, y)\n",
    "\n",
    "# Calculate the odor intensity for each point\n",
    "Z = np.zeros((100, 100))\n",
    "for i in range(100):\n",
    "    for j in range(100):\n",
    "        # Ajustement nécessaire: get_olfaction attend une position d'antenne 3D, ajoutons une dimension z arbitraire.\n",
    "        Z[i, j] = arena.get_olfaction(np.array([[X[i, j], Y[i, j], 0]]))  # z=0 pour simplifier\n",
    "\n",
    "# Create a heatmap\n",
    "plt.imshow(Z, origin='lower', extent=[0, 25, 0, 25], cmap='hot', interpolation='nearest')\n",
    "plt.colorbar(label='Odor intensity')\n",
    "plt.title('Odor intensity in SquareOdorArena')\n",
    "plt.xlabel('x')\n",
    "plt.ylabel('y')\n",
    "plt.show()\n"
   ]
  },
  {
   "cell_type": "code",
   "execution_count": null,
   "metadata": {},
   "outputs": [
    {
     "ename": "AttributeError",
     "evalue": "'NoneType' object has no attribute 'worldbody'",
     "output_type": "error",
     "traceback": [
      "\u001b[1;31m---------------------------------------------------------------------------\u001b[0m",
      "\u001b[1;31mAttributeError\u001b[0m                            Traceback (most recent call last)",
      "Cell \u001b[1;32mIn[14], line 6\u001b[0m\n\u001b[0;32m      2\u001b[0m \u001b[38;5;28;01mimport\u001b[39;00m \u001b[38;5;21;01mnumpy\u001b[39;00m \u001b[38;5;28;01mas\u001b[39;00m \u001b[38;5;21;01mnp\u001b[39;00m\n\u001b[0;32m      4\u001b[0m \u001b[38;5;66;03m# Initialize the SquareOdorArena\u001b[39;00m\n\u001b[0;32m      5\u001b[0m \u001b[38;5;66;03m#arena = SquareOdorArena(terrain=base, odor_zone_center=(12.5, 12.5), odor_zone_size=10.0, odor_zone_intensity=1.0)\u001b[39;00m\n\u001b[1;32m----> 6\u001b[0m arena \u001b[38;5;241m=\u001b[39m \u001b[43mSquareOdorArena\u001b[49m\u001b[43m(\u001b[49m\u001b[43mterrain\u001b[49m\u001b[38;5;241;43m=\u001b[39;49m\u001b[43mbase_terrain\u001b[49m\u001b[43m)\u001b[49m\n\u001b[0;32m      8\u001b[0m \u001b[38;5;66;03m# Create a grid of points\u001b[39;00m\n\u001b[0;32m      9\u001b[0m x \u001b[38;5;241m=\u001b[39m np\u001b[38;5;241m.\u001b[39mlinspace(\u001b[38;5;241m0\u001b[39m, \u001b[38;5;241m25\u001b[39m, \u001b[38;5;241m100\u001b[39m)\n",
      "Cell \u001b[1;32mIn[2], line 15\u001b[0m, in \u001b[0;36mSquareOdorArena.__init__\u001b[1;34m(self, terrain, odor_zone_center, odor_zone_size, odor_zone_intensity, **kwargs)\u001b[0m\n\u001b[0;32m      7\u001b[0m \u001b[38;5;28;01mdef\u001b[39;00m \u001b[38;5;21m__init__\u001b[39m(\n\u001b[0;32m      8\u001b[0m     \u001b[38;5;28mself\u001b[39m,   \n\u001b[0;32m      9\u001b[0m     terrain: BaseArena,\n\u001b[1;32m   (...)\u001b[0m\n\u001b[0;32m     13\u001b[0m     \u001b[38;5;241m*\u001b[39m\u001b[38;5;241m*\u001b[39mkwargs\n\u001b[0;32m     14\u001b[0m ):\n\u001b[1;32m---> 15\u001b[0m     \u001b[38;5;28;43msuper\u001b[39;49m\u001b[43m(\u001b[49m\u001b[43m)\u001b[49m\u001b[38;5;241;43m.\u001b[39;49m\u001b[38;5;21;43m__init__\u001b[39;49m\u001b[43m(\u001b[49m\u001b[43mterrain\u001b[49m\u001b[38;5;241;43m=\u001b[39;49m\u001b[43mterrain\u001b[49m\u001b[43m,\u001b[49m\u001b[43m \u001b[49m\u001b[38;5;241;43m*\u001b[39;49m\u001b[38;5;241;43m*\u001b[39;49m\u001b[43mkwargs\u001b[49m\u001b[43m)\u001b[49m\n\u001b[0;32m     16\u001b[0m     \u001b[38;5;28mself\u001b[39m\u001b[38;5;241m.\u001b[39modor_zone_center \u001b[38;5;241m=\u001b[39m np\u001b[38;5;241m.\u001b[39marray(odor_zone_center)\n\u001b[0;32m     17\u001b[0m     \u001b[38;5;28mself\u001b[39m\u001b[38;5;241m.\u001b[39modor_zone_size \u001b[38;5;241m=\u001b[39m odor_zone_size\n",
      "File \u001b[1;32mc:\\users\\samrh\\flygym-v1\\flygym\\examples\\obstacle_arena.py:60\u001b[0m, in \u001b[0;36mObstacleOdorArena.__init__\u001b[1;34m(self, terrain, obstacle_positions, obstacle_colors, obstacle_radius, obstacle_height, odor_source, peak_odor_intensity, diffuse_func, marker_colors, marker_size, user_camera_settings)\u001b[0m\n\u001b[0;32m     58\u001b[0m pos \u001b[38;5;241m=\u001b[39m \u001b[38;5;28mlist\u001b[39m(pos)\n\u001b[0;32m     59\u001b[0m pos[\u001b[38;5;241m2\u001b[39m] \u001b[38;5;241m+\u001b[39m\u001b[38;5;241m=\u001b[39m z_offset\n\u001b[1;32m---> 60\u001b[0m marker_body \u001b[38;5;241m=\u001b[39m \u001b[38;5;28;43mself\u001b[39;49m\u001b[38;5;241;43m.\u001b[39;49m\u001b[43mroot_element\u001b[49m\u001b[38;5;241;43m.\u001b[39;49m\u001b[43mworldbody\u001b[49m\u001b[38;5;241m.\u001b[39madd(\n\u001b[0;32m     61\u001b[0m     \u001b[38;5;124m\"\u001b[39m\u001b[38;5;124mbody\u001b[39m\u001b[38;5;124m\"\u001b[39m, name\u001b[38;5;241m=\u001b[39m\u001b[38;5;124mf\u001b[39m\u001b[38;5;124m\"\u001b[39m\u001b[38;5;124modor_source_marker_\u001b[39m\u001b[38;5;132;01m{\u001b[39;00mi\u001b[38;5;132;01m}\u001b[39;00m\u001b[38;5;124m\"\u001b[39m, pos\u001b[38;5;241m=\u001b[39mpos, mocap\u001b[38;5;241m=\u001b[39m\u001b[38;5;28;01mTrue\u001b[39;00m\n\u001b[0;32m     62\u001b[0m )\n\u001b[0;32m     63\u001b[0m geom \u001b[38;5;241m=\u001b[39m marker_body\u001b[38;5;241m.\u001b[39madd(\n\u001b[0;32m     64\u001b[0m     \u001b[38;5;124m\"\u001b[39m\u001b[38;5;124mgeom\u001b[39m\u001b[38;5;124m\"\u001b[39m, \u001b[38;5;28mtype\u001b[39m\u001b[38;5;241m=\u001b[39m\u001b[38;5;124m\"\u001b[39m\u001b[38;5;124mcapsule\u001b[39m\u001b[38;5;124m\"\u001b[39m, size\u001b[38;5;241m=\u001b[39m(marker_size, marker_size), rgba\u001b[38;5;241m=\u001b[39mrgba\n\u001b[0;32m     65\u001b[0m )\n\u001b[0;32m     66\u001b[0m \u001b[38;5;28mself\u001b[39m\u001b[38;5;241m.\u001b[39m_odor_marker_geoms\u001b[38;5;241m.\u001b[39mappend(geom)\n",
      "\u001b[1;31mAttributeError\u001b[0m: 'NoneType' object has no attribute 'worldbody'"
     ]
    }
   ],
   "source": [
    "import matplotlib.pyplot as plt\n",
    "import numpy as np\n",
    "\n",
    "# Initialize the SquareOdorArena\n",
    "#arena = SquareOdorArena(terrain=base, odor_zone_center=(12.5, 12.5), odor_zone_size=10.0, odor_zone_intensity=1.0)\n",
    "arena = SquareOdorArena(terrain=base_terrain)\n",
    "\n",
    "# Create a grid of points\n",
    "x = np.linspace(0, 25, 100)\n",
    "y = np.linspace(0, 25, 100)\n",
    "X, Y = np.meshgrid(x, y)\n",
    "\n",
    "# Calculate the odor intensity for each point\n",
    "Z = np.zeros((100, 100))\n",
    "for i in range(100):\n",
    "    for j in range(100):\n",
    "        Z[i, j] = arena.get_olfaction(np.array([[X[i, j], Y[i, j]]]))\n",
    "\n",
    "# Create a heatmap\n",
    "plt.imshow(Z, origin='lower', extent=[0, 25, 0, 25], cmap='hot', interpolation='nearest')\n",
    "plt.colorbar(label='Odor intensity')\n",
    "plt.title('Odor intensity in SquareOdorArena')\n",
    "plt.xlabel('x')\n",
    "plt.ylabel('y')\n",
    "plt.show()"
   ]
  },
  {
   "cell_type": "markdown",
   "metadata": {},
   "source": [
    "## Odor arena\n",
    "\n",
    "To demonstrate odor sensing, let's create an environment with one attractive odor source and two aversive odor sources. The dimension of this odor space is 2 (attractive, aversive) despite the number of odor sources being 3. The odor sources share a peak intensity of 1. We will color the attractive odor source orange and the aversive odor sources blue."
   ]
  },
  {
   "cell_type": "code",
   "execution_count": null,
   "metadata": {},
   "outputs": [],
   "source": [
    "import numpy as np\n",
    "\n",
    "# random state seed for reproducibility\n",
    "seed = 1\n",
    "\n",
    "# Odor source: array of shape (num_odor_sources, 3) - xyz coords of odor sources\n",
    "odor_source = np.array([[24, 0, 1.5], [8, -4, 1.5], [16, 4, 1.5]])\n",
    "\n",
    "# Peak intensities: array of shape (num_odor_sources, odor_dimensions)\n",
    "# For each odor source, if the intensity is (x, 0) then the odor is in the 1st dimension\n",
    "# (in this case attractive). If it's (0, x) then it's in the 2nd dimension (in this case\n",
    "# aversive)\n",
    "peak_odor_intensity = np.array([[1, 0], [0, 1], [0, 1]])\n",
    "\n",
    "# Marker colors: array of shape (num_odor_sources, 4) - RGBA values for each marker,\n",
    "# normalized to [0, 1]\n",
    "marker_colors = [[255, 127, 14], [31, 119, 180], [31, 119, 180]]\n",
    "marker_colors = np.array([[*np.array(color) / 255, 1] for color in marker_colors])\n",
    "\n",
    "odor_dimensions = len(peak_odor_intensity[0])"
   ]
  },
  {
   "cell_type": "markdown",
   "metadata": {},
   "source": [
    "Let's create the arena using these parameters. The detailed documentation of the `OdorArena` class can be found in the [API reference](https://neuromechfly.org/api_ref/arena.html#flygym.mujoco.arena.OdorArena). Its implementation is beyond the scope of this tutorial but can be found [here](https://github.com/NeLy-EPFL/flygym/blob/main/flygym/mujoco/arena/sensory_environment.py)."
   ]
  },
  {
   "cell_type": "code",
   "execution_count": null,
   "metadata": {},
   "outputs": [
    {
     "ename": "TypeError",
     "evalue": "OdorArena.__init__() got an unexpected keyword argument 'peak_intensity'",
     "output_type": "error",
     "traceback": [
      "\u001b[1;31m---------------------------------------------------------------------------\u001b[0m",
      "\u001b[1;31mTypeError\u001b[0m                                 Traceback (most recent call last)",
      "Cell \u001b[1;32mIn[2], line 3\u001b[0m\n\u001b[0;32m      1\u001b[0m \u001b[38;5;28;01mfrom\u001b[39;00m \u001b[38;5;21;01mflygym\u001b[39;00m\u001b[38;5;21;01m.\u001b[39;00m\u001b[38;5;21;01marena\u001b[39;00m \u001b[38;5;28;01mimport\u001b[39;00m OdorArena\n\u001b[1;32m----> 3\u001b[0m arena \u001b[38;5;241m=\u001b[39m \u001b[43mOdorArena\u001b[49m\u001b[43m(\u001b[49m\n\u001b[0;32m      4\u001b[0m \u001b[43m    \u001b[49m\u001b[43modor_source\u001b[49m\u001b[38;5;241;43m=\u001b[39;49m\u001b[43modor_source\u001b[49m\u001b[43m,\u001b[49m\n\u001b[0;32m      5\u001b[0m \u001b[43m    \u001b[49m\u001b[43mpeak_intensity\u001b[49m\u001b[38;5;241;43m=\u001b[39;49m\u001b[43mpeak_odor_intensity\u001b[49m\u001b[43m,\u001b[49m\n\u001b[0;32m      6\u001b[0m \u001b[43m    \u001b[49m\u001b[43mdiffuse_func\u001b[49m\u001b[38;5;241;43m=\u001b[39;49m\u001b[38;5;28;43;01mlambda\u001b[39;49;00m\u001b[43m \u001b[49m\u001b[43mx\u001b[49m\u001b[43m:\u001b[49m\u001b[43m \u001b[49m\u001b[43mx\u001b[49m\u001b[38;5;241;43m*\u001b[39;49m\u001b[38;5;241;43m*\u001b[39;49m\u001b[38;5;241;43m-\u001b[39;49m\u001b[38;5;241;43m2\u001b[39;49m\u001b[43m,\u001b[49m\n\u001b[0;32m      7\u001b[0m \u001b[43m    \u001b[49m\u001b[43mmarker_colors\u001b[49m\u001b[38;5;241;43m=\u001b[39;49m\u001b[43mmarker_colors\u001b[49m\u001b[43m,\u001b[49m\n\u001b[0;32m      8\u001b[0m \u001b[43m    \u001b[49m\u001b[43mmarker_size\u001b[49m\u001b[38;5;241;43m=\u001b[39;49m\u001b[38;5;241;43m0.3\u001b[39;49m\u001b[43m,\u001b[49m\n\u001b[0;32m      9\u001b[0m \u001b[43m)\u001b[49m\n",
      "\u001b[1;31mTypeError\u001b[0m: OdorArena.__init__() got an unexpected keyword argument 'peak_intensity'"
     ]
    }
   ],
   "source": [
    "from flygym.arena import OdorArena\n",
    "\n",
    "arena = OdorArena(\n",
    "    odor_source=odor_source,\n",
    "    peak_intensity=peak_odor_intensity,\n",
    "    diffuse_func=lambda x: x**-2,\n",
    "    marker_colors=marker_colors,\n",
    "    marker_size=0.3,\n",
    ")"
   ]
  },
  {
   "cell_type": "markdown",
   "metadata": {},
   "source": [
    "Let’s place our fly in the arena. As before, we will run a few iterations to allow it to stand on the ground in a stable manner.\n",
    "\n",
    "Note that we will be using the `HybridTurningNMF` as the turning controller. This class serves as an enhanced version of the `TurningNMF` in the previous exercises, utilizing sensory feedback to prevent the fly from stumbling. For further details, refer to https://neuromechfly.org/tutorials/hybrid_controller.html and https://neuromechfly.org/tutorials/turning.html."
   ]
  },
  {
   "cell_type": "code",
   "execution_count": null,
   "metadata": {},
   "outputs": [
    {
     "ename": "NameError",
     "evalue": "name 'arena' is not defined",
     "output_type": "error",
     "traceback": [
      "\u001b[1;31m---------------------------------------------------------------------------\u001b[0m",
      "\u001b[1;31mNameError\u001b[0m                                 Traceback (most recent call last)",
      "Cell \u001b[1;32mIn[9], line 27\u001b[0m\n\u001b[0;32m     10\u001b[0m contact_sensor_placements \u001b[38;5;241m=\u001b[39m [\n\u001b[0;32m     11\u001b[0m     \u001b[38;5;124mf\u001b[39m\u001b[38;5;124m\"\u001b[39m\u001b[38;5;132;01m{\u001b[39;00mleg\u001b[38;5;132;01m}\u001b[39;00m\u001b[38;5;132;01m{\u001b[39;00msegment\u001b[38;5;132;01m}\u001b[39;00m\u001b[38;5;124m\"\u001b[39m\n\u001b[0;32m     12\u001b[0m     \u001b[38;5;28;01mfor\u001b[39;00m leg \u001b[38;5;129;01min\u001b[39;00m [\u001b[38;5;124m\"\u001b[39m\u001b[38;5;124mLF\u001b[39m\u001b[38;5;124m\"\u001b[39m, \u001b[38;5;124m\"\u001b[39m\u001b[38;5;124mLM\u001b[39m\u001b[38;5;124m\"\u001b[39m, \u001b[38;5;124m\"\u001b[39m\u001b[38;5;124mLH\u001b[39m\u001b[38;5;124m\"\u001b[39m, \u001b[38;5;124m\"\u001b[39m\u001b[38;5;124mRF\u001b[39m\u001b[38;5;124m\"\u001b[39m, \u001b[38;5;124m\"\u001b[39m\u001b[38;5;124mRM\u001b[39m\u001b[38;5;124m\"\u001b[39m, \u001b[38;5;124m\"\u001b[39m\u001b[38;5;124mRH\u001b[39m\u001b[38;5;124m\"\u001b[39m]\n\u001b[0;32m     13\u001b[0m     \u001b[38;5;28;01mfor\u001b[39;00m segment \u001b[38;5;129;01min\u001b[39;00m [\u001b[38;5;124m\"\u001b[39m\u001b[38;5;124mTibia\u001b[39m\u001b[38;5;124m\"\u001b[39m, \u001b[38;5;124m\"\u001b[39m\u001b[38;5;124mTarsus1\u001b[39m\u001b[38;5;124m\"\u001b[39m, \u001b[38;5;124m\"\u001b[39m\u001b[38;5;124mTarsus2\u001b[39m\u001b[38;5;124m\"\u001b[39m, \u001b[38;5;124m\"\u001b[39m\u001b[38;5;124mTarsus3\u001b[39m\u001b[38;5;124m\"\u001b[39m, \u001b[38;5;124m\"\u001b[39m\u001b[38;5;124mTarsus4\u001b[39m\u001b[38;5;124m\"\u001b[39m, \u001b[38;5;124m\"\u001b[39m\u001b[38;5;124mTarsus5\u001b[39m\u001b[38;5;124m\"\u001b[39m]\n\u001b[0;32m     14\u001b[0m ]\n\u001b[0;32m     15\u001b[0m sim_params \u001b[38;5;241m=\u001b[39m Parameters(\n\u001b[0;32m     16\u001b[0m     timestep\u001b[38;5;241m=\u001b[39m\u001b[38;5;241m1e-4\u001b[39m,\n\u001b[0;32m     17\u001b[0m     render_mode\u001b[38;5;241m=\u001b[39m\u001b[38;5;124m\"\u001b[39m\u001b[38;5;124msaved\u001b[39m\u001b[38;5;124m\"\u001b[39m,\n\u001b[1;32m   (...)\u001b[0m\n\u001b[0;32m     23\u001b[0m     render_camera\u001b[38;5;241m=\u001b[39m\u001b[38;5;124m\"\u001b[39m\u001b[38;5;124mbirdeye_cam\u001b[39m\u001b[38;5;124m\"\u001b[39m,\n\u001b[0;32m     24\u001b[0m )\n\u001b[0;32m     25\u001b[0m sim \u001b[38;5;241m=\u001b[39m HybridTurningNMF(\n\u001b[0;32m     26\u001b[0m     sim_params\u001b[38;5;241m=\u001b[39msim_params,\n\u001b[1;32m---> 27\u001b[0m     arena\u001b[38;5;241m=\u001b[39m\u001b[43marena\u001b[49m,\n\u001b[0;32m     28\u001b[0m     spawn_pos\u001b[38;5;241m=\u001b[39m(\u001b[38;5;241m0\u001b[39m, \u001b[38;5;241m0\u001b[39m, \u001b[38;5;241m0.2\u001b[39m),\n\u001b[0;32m     29\u001b[0m     contact_sensor_placements\u001b[38;5;241m=\u001b[39mcontact_sensor_placements,\n\u001b[0;32m     30\u001b[0m )\n\u001b[0;32m     31\u001b[0m \u001b[38;5;28;01mfor\u001b[39;00m i \u001b[38;5;129;01min\u001b[39;00m \u001b[38;5;28mrange\u001b[39m(\u001b[38;5;241m500\u001b[39m):\n\u001b[0;32m     32\u001b[0m     sim\u001b[38;5;241m.\u001b[39mstep(np\u001b[38;5;241m.\u001b[39mzeros(\u001b[38;5;241m2\u001b[39m))\n",
      "\u001b[1;31mNameError\u001b[0m: name 'arena' is not defined"
     ]
    }
   ],
   "source": [
    "from pathlib import Path\n",
    "import matplotlib.pyplot as plt\n",
    "from flygym import Parameters\n",
    "from flygym.examples.turning_controller import HybridTurningNMF\n",
    "\n",
    "\n",
    "Path(\"./outputs\").mkdir(exist_ok=True)\n",
    "\n",
    "\n",
    "contact_sensor_placements = [\n",
    "    f\"{leg}{segment}\"\n",
    "    for leg in [\"LF\", \"LM\", \"LH\", \"RF\", \"RM\", \"RH\"]\n",
    "    for segment in [\"Tibia\", \"Tarsus1\", \"Tarsus2\", \"Tarsus3\", \"Tarsus4\", \"Tarsus5\"]\n",
    "]\n",
    "sim_params = Parameters(\n",
    "    timestep=1e-4,\n",
    "    render_mode=\"saved\",\n",
    "    render_playspeed=0.5,\n",
    "    render_window_size=(800, 608),\n",
    "    enable_olfaction=True,\n",
    "    enable_adhesion=True,\n",
    "    draw_adhesion=False,\n",
    "    render_camera=\"birdeye_cam\",\n",
    ")\n",
    "sim = HybridTurningNMF(\n",
    "    sim_params=sim_params,\n",
    "    arena=arena,\n",
    "    spawn_pos=(0, 0, 0.2),\n",
    "    contact_sensor_placements=contact_sensor_placements,\n",
    ")\n",
    "for i in range(500):\n",
    "    sim.step(np.zeros(2))\n",
    "    sim.render()\n",
    "fig, ax = plt.subplots(1, 1, figsize=(5, 4), tight_layout=True)\n",
    "ax.imshow(sim._frames[-1])\n",
    "ax.axis(\"off\")\n",
    "fig.savefig(\"./outputs/olfaction_env.png\")"
   ]
  },
  {
   "cell_type": "markdown",
   "metadata": {},
   "source": [
    "We can visualize the fly trajectory:"
   ]
  },
  {
   "cell_type": "code",
   "execution_count": null,
   "metadata": {},
   "outputs": [
    {
     "ename": "NameError",
     "evalue": "name 'obs_hist' is not defined",
     "output_type": "error",
     "traceback": [
      "\u001b[1;31m---------------------------------------------------------------------------\u001b[0m",
      "\u001b[1;31mNameError\u001b[0m                                 Traceback (most recent call last)",
      "Cell \u001b[1;32mIn[10], line 1\u001b[0m\n\u001b[1;32m----> 1\u001b[0m fly_pos_hist \u001b[38;5;241m=\u001b[39m np\u001b[38;5;241m.\u001b[39marray([obs[\u001b[38;5;124m\"\u001b[39m\u001b[38;5;124mfly\u001b[39m\u001b[38;5;124m\"\u001b[39m][\u001b[38;5;241m0\u001b[39m, :\u001b[38;5;241m2\u001b[39m] \u001b[38;5;28;01mfor\u001b[39;00m obs \u001b[38;5;129;01min\u001b[39;00m \u001b[43mobs_hist\u001b[49m])\n\u001b[0;32m      2\u001b[0m fig, ax \u001b[38;5;241m=\u001b[39m plt\u001b[38;5;241m.\u001b[39msubplots(\u001b[38;5;241m1\u001b[39m, \u001b[38;5;241m1\u001b[39m, figsize\u001b[38;5;241m=\u001b[39m(\u001b[38;5;241m5\u001b[39m, \u001b[38;5;241m4\u001b[39m), tight_layout\u001b[38;5;241m=\u001b[39m\u001b[38;5;28;01mTrue\u001b[39;00m)\n\u001b[0;32m      3\u001b[0m ax\u001b[38;5;241m.\u001b[39mscatter(\n\u001b[0;32m      4\u001b[0m     [odor_source[\u001b[38;5;241m0\u001b[39m, \u001b[38;5;241m0\u001b[39m]],\n\u001b[0;32m      5\u001b[0m     [odor_source[\u001b[38;5;241m0\u001b[39m, \u001b[38;5;241m1\u001b[39m]],\n\u001b[1;32m   (...)\u001b[0m\n\u001b[0;32m      9\u001b[0m     label\u001b[38;5;241m=\u001b[39m\u001b[38;5;124m\"\u001b[39m\u001b[38;5;124mAttractive\u001b[39m\u001b[38;5;124m\"\u001b[39m,\n\u001b[0;32m     10\u001b[0m )\n",
      "\u001b[1;31mNameError\u001b[0m: name 'obs_hist' is not defined"
     ]
    }
   ],
   "source": [
    "fly_pos_hist = np.array([obs[\"fly\"][0, :2] for obs in obs_hist])\n",
    "fig, ax = plt.subplots(1, 1, figsize=(5, 4), tight_layout=True)\n",
    "ax.scatter(\n",
    "    [odor_source[0, 0]],\n",
    "    [odor_source[0, 1]],\n",
    "    marker=\"o\",\n",
    "    color=\"tab:orange\",\n",
    "    s=50,\n",
    "    label=\"Attractive\",\n",
    ")\n",
    "ax.scatter(\n",
    "    [odor_source[1, 0]],\n",
    "    [odor_source[1, 1]],\n",
    "    marker=\"o\",\n",
    "    color=\"tab:blue\",\n",
    "    s=50,\n",
    "    label=\"Aversive\",\n",
    ")\n",
    "ax.scatter([odor_source[2, 0]], [odor_source[2, 1]], marker=\"o\", color=\"tab:blue\", s=50)\n",
    "ax.plot(fly_pos_hist[:, 0], fly_pos_hist[:, 1], color=\"k\", label=\"Fly trajectory\")\n",
    "ax.set_aspect(\"equal\")\n",
    "ax.set_xlim(-1, 25)\n",
    "ax.set_ylim(-5, 5)\n",
    "ax.set_xlabel(\"x (mm)\")\n",
    "ax.set_ylabel(\"y (mm)\")\n",
    "ax.legend(ncols=3, loc=\"lower center\", bbox_to_anchor=(0.5, -0.6))\n",
    "fig.savefig(\"./outputs/odor_taxis_trajectory.png\")"
   ]
  },
  {
   "cell_type": "markdown",
   "metadata": {},
   "source": [
    "We can also generate the video:"
   ]
  },
  {
   "cell_type": "code",
   "execution_count": null,
   "metadata": {},
   "outputs": [
    {
     "ename": "NameError",
     "evalue": "name 'sim' is not defined",
     "output_type": "error",
     "traceback": [
      "\u001b[1;31m---------------------------------------------------------------------------\u001b[0m",
      "\u001b[1;31mNameError\u001b[0m                                 Traceback (most recent call last)",
      "Cell \u001b[1;32mIn[11], line 1\u001b[0m\n\u001b[1;32m----> 1\u001b[0m \u001b[43msim\u001b[49m\u001b[38;5;241m.\u001b[39msave_video(\u001b[38;5;124m\"\u001b[39m\u001b[38;5;124m./outputs/odor_taxis.mp4\u001b[39m\u001b[38;5;124m\"\u001b[39m)\n\u001b[0;32m      3\u001b[0m \u001b[38;5;28;01mfrom\u001b[39;00m \u001b[38;5;21;01mIPython\u001b[39;00m \u001b[38;5;28;01mimport\u001b[39;00m display\n\u001b[0;32m      5\u001b[0m display\u001b[38;5;241m.\u001b[39mVideo(\u001b[38;5;124m\"\u001b[39m\u001b[38;5;124m./outputs/odor_taxis.mp4\u001b[39m\u001b[38;5;124m\"\u001b[39m)\n",
      "\u001b[1;31mNameError\u001b[0m: name 'sim' is not defined"
     ]
    }
   ],
   "source": [
    "sim.save_video(\"./outputs/odor_taxis.mp4\")\n",
    "\n",
    "from IPython import display\n",
    "\n",
    "display.Video(\"./outputs/odor_taxis.mp4\")"
   ]
  }
 ],
 "metadata": {
  "kernelspec": {
   "display_name": "flygym0.2",
   "language": "python",
   "name": "python3"
  },
  "language_info": {
   "codemirror_mode": {
    "name": "ipython",
    "version": 3
   },
   "file_extension": ".py",
   "mimetype": "text/x-python",
   "name": "python",
   "nbconvert_exporter": "python",
   "pygments_lexer": "ipython3",
   "version": "3.11.9"
  }
 },
 "nbformat": 4,
 "nbformat_minor": 2
}
